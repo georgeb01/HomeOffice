{
 "cells": [
  {
   "cell_type": "code",
   "execution_count": 1,
   "metadata": {
    "collapsed": false
   },
   "outputs": [
   ],
   "source": [
    "import numpy as np #import some standard libraries\n",
    "from math import *\n",
    "import scipy"
   ]
  },
  {
   "cell_type": "code",
   "execution_count": 2,
   "metadata": {
    "collapsed": false
   },
   "outputs": [
   ],
   "source": [
    "def Coder(string,code='Encode',fullalpha='yes'):\n",
    "    \"This function takes in a string of any length and, through a set algorithm, converts this string into a new, encoded string. The input string can be alphanumeric, while the function also accommodates for some simple punctuation (. , ? ! and white space). There is also the functionality to decode an encoded input string (i.e. a string that has already been encoded by this function).\\n\\n Inputs:\\n\\n string: the string that requires encoding/decoding\\n code: ('Encode' or 'Decode') if 'Encode' (default) then encode the string. If 'Decode' then decode the string\\n fullalpha: ('yes' or 'no') if 'yes' (default) then use the full list of allowed characters (as described above). If 'no' then just use the alphabet.\"\n",
    "\n",
    "    assert(isinstance(string, str)), 'Input message should be of type string (str).' #raises and error if the input is not of type str\n",
    "    assert(code=='Encode' or code=='Decode'),'Code type should be set to \"Encode\" or \"Decode\".' #raises an error if the code type is not set to encode or decode\n",
    "    assert(fullalpha=='yes' or fullalpha=='no'),'fullalpha should be set to either \"yes\" or \"no\".' #raises an error if fullalpha is not set to yes or no\n",
    "\n",
    "    if fullalpha=='yes': #create a list of the extended list of characters if fullalpha is set to 'yes'\n",
    "        alpha=['A','a','B','b','C','c','D','d','E','e','F','f','G','g','H','h','I','i','J','j','K','k','L','l','M','m','N','n','O','o','P','p','Q','q','R','r','S','s','T','t','U','u','V','v','W','w','X','x','Y','y','Z','z','.',',','?','!',' ','1','2','3','4','5','6','7','8','9','0'] #set up the allowed input characters\n",
    "    elif fullalpha=='no': #create a list of the standard list of characters if fullalpha is set to 'no'\n",
    "        alpha=['A','B','C','D','E','F','G','H','I','J','K','L','M','N','O','P','Q','R','S','T','U','V','W','X','Y','Z'] #set up the allowed input characters\n",
    "\n",
    "    for i in string: #run through the string to check if all the characters are allowed\n",
    "        assert(i.upper() in alpha),'The character {} is not in the allowed list of characters. The allowed list of characters consist of the english alphabet (upper and lower case), numbers and standard punctuation (. , ? ! and white space) if fullalpha is set to \"yes\". If fullalpha is set to \"no\", then just the standard alphabet is allowed.'.format(i) #raises an error if a character in the string is not recognised in the list of allowed characters\n",
    "\n",
    "    alnum={} #define an empty dictionary to append the characters as keys, and assign a numeric value to them\n",
    "    newstr=[] #define an empty list to append the encoded characters to\n",
    "    lowerpos=[] #define an empty list to hold the positions of all the lower-case characters in the case where fullalpha is set to 'no'\n",
    "    count=-1 #define a counter to run through the length of alpha and assign each character a value\n",
    "\n",
    "    for i in alpha: #run through the characters in alpha\n",
    "        count+=1 #increase the counter by 1\n",
    "        alnum[i]=count #append the keys (characters) and their corresponding values into the alnum dictionary\n",
    "\n",
    "    if code=='Encode': #encode the input string\n",
    "        for i in range(len(string)): #run through the characters of the input string\n",
    "            if fullalpha=='no':\n",
    "                if string[i]!=string[i].upper(): #if the character is lower-case, then append the position of this character to lowerpos\n",
    "                    lowerpos.append(i)\n",
    "                num=alnum[string[i].upper()] #ensure all characters are set to upper-case and find the value corresponding to current character\n",
    "            elif fullalpha=='yes':\n",
    "                num=alnum[string[i]] #find the value corresponding to current character\n",
    "            if num<count-2: #to avoid the +3 algorithm running beyond the length of the dictionary. Values that satisfy this inequality are 'safe' from over-running\n",
    "                num2=num+3 #increase the character's value by 3 to encode it\n",
    "            else: #values that do not satisfy the above inequality will over-run the length of the dictionary, so this forces the value to 'loop' back through 0\n",
    "                num2=2-(count-num)\n",
    "            newstr.append(list(alnum.keys())[list(alnum.values()).index(num2)]) #find the new encoded character based on the new number and append to the newstr list\n",
    "\n",
    "    elif code=='Decode': #decode the input string, the code below works the same as the encode case, but reduces the character value by 3, rather than increase it\n",
    "        for i in range(len(string)):\n",
    "            if fullalpha=='no':\n",
    "                if string[i]!=string[i].upper():\n",
    "                    lowerpos.append(i)\n",
    "                num=alnum[string[i].upper()]\n",
    "            elif fullalpha=='yes':\n",
    "                num=alnum[string[i]]\n",
    "            if num>2:\n",
    "                num2=num-3\n",
    "            else:\n",
    "                num2=count+(num-2)\n",
    "            newstr.append(list(alnum.keys())[list(alnum.values()).index(num2)])\n",
    "\n",
    "    if not 0 in lowerpos or fullalpha=='yes': #if the first character from the input string isn't lower-case or fullalpha is set to 'yes'\n",
    "        fulltext=newstr[0] #newstr is a comma-separated list, so define a variable that will store the encoded string in the appropriate format\n",
    "    elif 0 in lowerpos and fullalpha=='no': #if the first character from the input string is lower-case and fullalpha is set to 'no'\n",
    "        fulltext=newstr[0].lower() #change the new character to lower-case if the corresponding input character was lower-case\n",
    "\n",
    "    for i in range(len(newstr)-1): #run through the length of values in newstr (the -1 accounts for the fact that the first character has already been added to fulltext)\n",
    "        if not i+1 in lowerpos or fullalpha=='yes': #if the character from the input string isn't lower-case or fullalpha is set to 'yes'\n",
    "            fulltext=fulltext+newstr[i+1] #add each character onto the previous character to form the new, encoded/decoded string\n",
    "        elif i+1 in lowerpos and fullalpha=='no': #if the character from the input string is lower-case and fullalpha is set to 'no'\n",
    "            fulltext=fulltext+newstr[i+1].lower() #add each character onto the previous character to form the new, encoded/decoded string\n",
    "\n",
    "    return(fulltext) #return the finished, encoded/decoded string"
   ]
  }
 ],
 "metadata": {
  "kernelspec": {
   "display_name": "Python 3 (Anaconda)",
   "language": "python",
   "name": "anaconda3"
  },
  "language_info": {
   "codemirror_mode": {
    "name": "ipython",
    "version": 3
   },
   "file_extension": ".py",
   "mimetype": "text/x-python",
   "name": "python",
   "nbconvert_exporter": "python",
   "pygments_lexer": "ipython3",
   "version": "3.5.5"
  }
 },
 "nbformat": 4,
 "nbformat_minor": 0
}
